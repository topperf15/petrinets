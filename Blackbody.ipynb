{
  "nbformat": 4,
  "nbformat_minor": 0,
  "metadata": {
    "colab": {
      "provenance": [],
      "authorship_tag": "ABX9TyNar15wTbNDgMpoJ23c34Pt",
      "include_colab_link": true
    },
    "kernelspec": {
      "name": "python3",
      "display_name": "Python 3"
    },
    "language_info": {
      "name": "python"
    }
  },
  "cells": [
    {
      "cell_type": "markdown",
      "metadata": {
        "id": "view-in-github",
        "colab_type": "text"
      },
      "source": [
        "<a href=\"https://colab.research.google.com/github/topperf15/petrinets/blob/main/Blackbody.ipynb\" target=\"_parent\"><img src=\"https://colab.research.google.com/assets/colab-badge.svg\" alt=\"Open In Colab\"/></a>"
      ]
    },
    {
      "cell_type": "code",
      "execution_count": null,
      "metadata": {
        "colab": {
          "base_uri": "https://localhost:8080/"
        },
        "id": "9pdU-DGMKihU",
        "outputId": "b45a50fd-c329-41c9-f5d9-a4b21c963344"
      },
      "outputs": [
        {
          "output_type": "stream",
          "name": "stdout",
          "text": [
            "3.6575141002351696e-05 erg / (Hz s sr cm2)\n",
            "5.015181645898235e-07\n"
          ]
        }
      ],
      "source": [
        "from scipy import constants as C\n",
        "from astropy.modeling.models import BlackBody as BB\n",
        "from astropy import units as u\n",
        "import numpy as np\n",
        "import matplotlib.pyplot as plt\n",
        "\n",
        "temp = 5778 #Kelvin, Sun\n",
        "\n",
        "wav = np.arange(1000, 110000, 10)\n",
        "\n",
        "bb = BB(temperature=temp*u.K)\n",
        "flux = bb(wav* u.AA)\n",
        "\n",
        "#plt.figure()\n",
        "#plt.semilogx(wav, flux)\n",
        "#plt.show()\n",
        "\n",
        "print(max(flux))\n",
        "\n",
        "print(C.Wien/temp)"
      ]
    }
  ]
}