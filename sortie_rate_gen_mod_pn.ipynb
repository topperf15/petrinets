{
  "nbformat": 4,
  "nbformat_minor": 0,
  "metadata": {
    "colab": {
      "provenance": [],
      "authorship_tag": "ABX9TyMui44hcd2c5D4lH0yNgPDn",
      "include_colab_link": true
    },
    "kernelspec": {
      "name": "python3",
      "display_name": "Python 3"
    },
    "language_info": {
      "name": "python"
    }
  },
  "cells": [
    {
      "cell_type": "markdown",
      "metadata": {
        "id": "view-in-github",
        "colab_type": "text"
      },
      "source": [
        "<a href=\"https://colab.research.google.com/github/topperf15/petrinets/blob/main/sortie_rate_gen_mod_pn.ipynb\" target=\"_parent\"><img src=\"https://colab.research.google.com/assets/colab-badge.svg\" alt=\"Open In Colab\"/></a>"
      ]
    },
    {
      "cell_type": "markdown",
      "source": [
        "Sortie Rate Generation Model Based on Petri Nets, using the pnet.py module developed separately and available from COPADS."
      ],
      "metadata": {
        "id": "6oFfphNrx3-H"
      }
    },
    {
      "cell_type": "code",
      "execution_count": null,
      "metadata": {
        "id": "MJQreEMpvOM8"
      },
      "outputs": [],
      "source": [
        "#!/usr/bin/env python3\n",
        "# -*- coding: utf-8 -*-\n",
        "\"\"\"\n",
        "Created on Wed Jan 17 17:34:21 2024\n",
        "\n",
        "@author: andrew_s\n",
        "\"\"\"\n",
        "\n",
        "#import sys\n",
        "#sys.path.append('/Users/andrew_s/Desktop')\n",
        "\n",
        "import pnet as pn\n",
        "import random\n",
        "\n",
        "vul = 6\n",
        "\n",
        "net = pn.PNet()\n",
        "# The ingredients to make one sortie\n",
        "net.add_places('hgr', {'ac': 4})\n",
        "net.add_places('FL', {'ac': 4})\n",
        "net.add_places('air', {'ac': 0, 'pilot': 0})\n",
        "net.add_places('lost', {'ac': 0})\n",
        "net.add_places('downed', {'pilot': 0})\n",
        "net.add_places('readyrm', {'pilot': 8})\n",
        "net.add_places('rest', {'pilot': 2})\n",
        "\n",
        "# net.add_rules('fly', 'delay', ['FL.ac -> air.ac; 1; 1'])\n",
        "net.add_rules('land', 'delay', ['air.ac -> hgr.ac; 1; 6'])\n",
        "net.add_rules('rest', 'delay', ['air.pilot -> rest.pilot; 1; '+str(vul)])\n",
        "net.add_rules('ready', 'delay', ['hgr.ac -> FL.ac; 1; 3'])\n",
        "net.add_rules('wait', 'delay', ['rest.pilot -> readyrm.pilot; 1; 8'])\n",
        "\n",
        "def launch_sortie(places):\n",
        "    place = places['air']\n",
        "    ac = place.attributes['ac']\n",
        "    if ac<4: return 4-ac\n",
        "    else: return 0\n",
        "\n",
        "net.add_rules('launch', 'function', ['FL.ac -> air.ac', launch_sortie, 'FL.ac>0; readyrm.pilot>0'])\n",
        "\n",
        "def launch_pilot(places):\n",
        "    place = places['air']\n",
        "    ac = place.attributes['ac']\n",
        "    pilot = place.attributes['pilot']\n",
        "    return ac-pilot\n",
        "\n",
        "net.add_rules('go_fly', 'function', ['readyrm.pilot -> air.pilot', launch_pilot, 'air.ac>0; readyrm.pilot>0'])\n",
        "\n",
        "def loose_sortie(places):\n",
        "    place = places['air']\n",
        "    ac = place.attributes['ac']\n",
        "    num = random.random()\n",
        "    Ps = .92\n",
        "    if num >= Ps and ac>1: return 1\n",
        "    else: return 0\n",
        "\n",
        "net.add_rules('lose', 'function', ['air.ac -> lost.ac', loose_sortie, 'air.ac>0'])\n",
        "\n",
        "def loose_pilot(places):\n",
        "    lostac = places['lost']\n",
        "    ac = lostac.attributes['ac']\n",
        "    downedac = places['downed']\n",
        "    pilot = downedac.attributes['pilot']\n",
        "    return ac-pilot\n",
        "\n",
        "net.add_rules('no_fly', 'function', ['air.pilot -> downed.pilot', loose_pilot, 'air.ac>0; air.pilot>0'])\n",
        "\n",
        "net.simulate(24, 1, 1)\n",
        "# Generate results file\n",
        "data = net.report_tokens()\n",
        "headers = ['timestep'] + data[0][1]\n",
        "f = open('flight.csv', 'w')\n",
        "f.write(','.join(headers) + '\\n')\n",
        "for tdata in data:\n",
        "    tdata = [tdata[0]] + [str(x) for x in tdata[2]]\n",
        "    f.write(','.join(tdata) + '\\n')\n",
        "f.close()"
      ]
    }
  ]
}