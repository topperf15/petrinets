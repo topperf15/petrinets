{
  "nbformat": 4,
  "nbformat_minor": 0,
  "metadata": {
    "colab": {
      "provenance": [],
      "authorship_tag": "ABX9TyPUWG+TqNLAYYpKNP/CtEvY",
      "include_colab_link": true
    },
    "kernelspec": {
      "name": "python3",
      "display_name": "Python 3"
    },
    "language_info": {
      "name": "python"
    }
  },
  "cells": [
    {
      "cell_type": "markdown",
      "metadata": {
        "id": "view-in-github",
        "colab_type": "text"
      },
      "source": [
        "<a href=\"https://colab.research.google.com/github/topperf15/petrinets/blob/main/sortie_rate_gen_mod_pn.ipynb\" target=\"_parent\"><img src=\"https://colab.research.google.com/assets/colab-badge.svg\" alt=\"Open In Colab\"/></a>"
      ]
    },
    {
      "cell_type": "markdown",
      "source": [
        "Sortie Rate Generation Model Based on Petri Nets, using the pnet.py module developed separately and available from COPADS."
      ],
      "metadata": {
        "id": "6oFfphNrx3-H"
      }
    },
    {
      "cell_type": "code",
      "execution_count": 1,
      "metadata": {
        "id": "MJQreEMpvOM8",
        "outputId": "29ef50a4-e75b-4935-d46a-e506bd48b439",
        "colab": {
          "base_uri": "https://localhost:8080/",
          "height": 384
        }
      },
      "outputs": [
        {
          "output_type": "error",
          "ename": "ModuleNotFoundError",
          "evalue": "No module named 'pnet'",
          "traceback": [
            "\u001b[0;31m---------------------------------------------------------------------------\u001b[0m",
            "\u001b[0;31mModuleNotFoundError\u001b[0m                       Traceback (most recent call last)",
            "\u001b[0;32m<ipython-input-1-f80977b5bb52>\u001b[0m in \u001b[0;36m<cell line: 12>\u001b[0;34m()\u001b[0m\n\u001b[1;32m     10\u001b[0m \u001b[0msys\u001b[0m\u001b[0;34m.\u001b[0m\u001b[0mpath\u001b[0m\u001b[0;34m.\u001b[0m\u001b[0mappend\u001b[0m\u001b[0;34m(\u001b[0m\u001b[0;34m'/Users/andrew_s/Desktop'\u001b[0m\u001b[0;34m)\u001b[0m\u001b[0;34m\u001b[0m\u001b[0;34m\u001b[0m\u001b[0m\n\u001b[1;32m     11\u001b[0m \u001b[0;34m\u001b[0m\u001b[0m\n\u001b[0;32m---> 12\u001b[0;31m \u001b[0;32mimport\u001b[0m \u001b[0mpnet\u001b[0m \u001b[0;32mas\u001b[0m \u001b[0mpn\u001b[0m\u001b[0;34m\u001b[0m\u001b[0;34m\u001b[0m\u001b[0m\n\u001b[0m\u001b[1;32m     13\u001b[0m \u001b[0;32mimport\u001b[0m \u001b[0mrandom\u001b[0m\u001b[0;34m\u001b[0m\u001b[0;34m\u001b[0m\u001b[0m\n\u001b[1;32m     14\u001b[0m \u001b[0;31m# time steps are one hour\u001b[0m\u001b[0;34m\u001b[0m\u001b[0;34m\u001b[0m\u001b[0m\n",
            "\u001b[0;31mModuleNotFoundError\u001b[0m: No module named 'pnet'",
            "",
            "\u001b[0;31m---------------------------------------------------------------------------\u001b[0;32m\nNOTE: If your import is failing due to a missing package, you can\nmanually install dependencies using either !pip or !apt.\n\nTo view examples of installing some common dependencies, click the\n\"Open Examples\" button below.\n\u001b[0;31m---------------------------------------------------------------------------\u001b[0m\n"
          ],
          "errorDetails": {
            "actions": [
              {
                "action": "open_url",
                "actionText": "Open Examples",
                "url": "/notebooks/snippets/importing_libraries.ipynb"
              }
            ]
          }
        }
      ],
      "source": [
        "#!/usr/bin/env python3\n",
        "# -*- coding: utf-8 -*-\n",
        "\"\"\"\n",
        "Created on Wed Jan 17 17:34:21 2024\n",
        "\n",
        "@author: andrew_s\n",
        "\"\"\"\n",
        "\n",
        "import sys\n",
        "sys.path.append('/Users/andrew_s/Desktop')\n",
        "\n",
        "import pnet as pn\n",
        "import random\n",
        "# time steps are one hour\n",
        "vul = 6\n",
        "\n",
        "net = pn.PNet()\n",
        "# The starting conditions\n",
        "net.add_places('hgr', {'ac': 4})\n",
        "net.add_places('FL', {'ac': 4})\n",
        "net.add_places('air', {'ac': 0, 'pilot': 0})\n",
        "net.add_places('lost', {'ac': 0})\n",
        "net.add_places('downed', {'pilot': 0})\n",
        "net.add_places('readyrm', {'pilot': 8})\n",
        "net.add_places('rest', {'pilot': 2})\n",
        "\n",
        "net.add_rules('land', 'incubate', ['6; air.ac -> hgr.ac; air.ac >0'])\n",
        "net.add_rules('rest', 'incubate', ['6; air.pilot -> rest.pilot; air.pilot >0'])\n",
        "net.add_rules('ready', 'incubate', ['3; hgr.ac -> FL.ac; hgr.ac > 0'])\n",
        "net.add_rules('wait', 'incubate', ['8; rest.pilot -> readyrm.pilot; rest.pilot >0'])\n",
        "\n",
        "def launch_sortie(places):\n",
        "    place = places['air']\n",
        "    ac = place.attributes['ac']\n",
        "    if ac<4: return 4-ac\n",
        "    else: return 0\n",
        "\n",
        "net.add_rules('launch', 'function', ['FL.ac -> air.ac', launch_sortie, 'FL.ac>0; readyrm.pilot>0'])\n",
        "\n",
        "def launch_pilot(places):\n",
        "    place = places['air']\n",
        "    ac = place.attributes['ac']\n",
        "    pilot = place.attributes['pilot']\n",
        "    return ac-pilot\n",
        "\n",
        "net.add_rules('go_fly', 'function', ['readyrm.pilot -> air.pilot', launch_pilot, 'air.ac>0; readyrm.pilot>0'])\n",
        "\n",
        "def loose_sortie(places):\n",
        "    place = places['air']\n",
        "    ac = place.attributes['ac']\n",
        "    num = random.random()\n",
        "    Ps = .92\n",
        "    if num >= Ps and ac>1: return 1\n",
        "    else: return 0\n",
        "\n",
        "net.add_rules('lose', 'function', ['air.ac -> lost.ac', loose_sortie, 'air.ac>0'])\n",
        "\n",
        "def loose_pilot(places):\n",
        "    lostac = places['lost']\n",
        "    ac = lostac.attributes['ac']\n",
        "    downedac = places['downed']\n",
        "    pilot = downedac.attributes['pilot']\n",
        "    return ac-pilot\n",
        "\n",
        "net.add_rules('no_fly', 'function', ['air.pilot -> downed.pilot', loose_pilot, 'air.ac>0; air.pilot>0'])\n",
        "\n",
        "net.simulate(24, 1, 1)\n",
        "# Generate results file\n",
        "data, edges = net.report_tokens()\n",
        "headers = ['timestep'] + data[0][1]\n",
        "f = open('flight.csv', 'w')\n",
        "f.write(','.join(headers) + '\\n')\n",
        "for tdata in data:\n",
        "    tdata = [tdata[0]] + [str(x) for x in tdata[2]]\n",
        "    f.write(','.join(tdata) + '\\n')\n",
        "f.close()\n",
        "\n",
        "# importing networkx\n",
        "import networkx as nx\n",
        "# importing matplotlib.pyplot\n",
        "import matplotlib.pyplot as plt\n",
        "\n",
        "g = nx.DiGraph()\n",
        "#g.add_nodes_from([d['movement'][0][0],d['movement'][1][0]])\n",
        "g.add_edges_from(edges)\n",
        "pos = nx.kamada_kawai_layout(g)\n",
        "nx.draw_networkx(g,pos,arrows=True,with_labels=True)\n",
        "plt.savefig(\"filename.png\")"
      ]
    }
  ]
}